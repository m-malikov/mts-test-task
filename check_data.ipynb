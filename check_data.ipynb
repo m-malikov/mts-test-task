{
 "cells": [
  {
   "cell_type": "code",
   "execution_count": 2,
   "metadata": {},
   "outputs": [],
   "source": [
    "import json\n",
    "\n",
    "with open(\"scripts/raw_data/three_minutes_tweets.json.txt\") as f:\n",
    "    tweets = [json.loads(line) for line in f]"
   ]
  },
  {
   "cell_type": "code",
   "execution_count": 3,
   "metadata": {},
   "outputs": [
    {
     "data": {
      "text/plain": [
       "8299"
      ]
     },
     "execution_count": 3,
     "metadata": {},
     "output_type": "execute_result"
    }
   ],
   "source": [
    "len(tweets)"
   ]
  },
  {
   "cell_type": "markdown",
   "metadata": {},
   "source": [
    "проверим что все строки -- создание или удаление твитов"
   ]
  },
  {
   "cell_type": "code",
   "execution_count": 6,
   "metadata": {},
   "outputs": [
    {
     "name": "stdout",
     "output_type": "stream",
     "text": [
      "7338 961\n"
     ]
    }
   ],
   "source": [
    "n_creates = 0\n",
    "n_deletes = 0\n",
    "for tweet in tweets:\n",
    "    if \"created_at\" in tweet:\n",
    "        n_creates += 1\n",
    "    elif \"delete\" in tweet:\n",
    "        n_deletes += 1\n",
    "    else:\n",
    "        print(\"unknown type\", tweet)\n",
    "\n",
    "print(n_creates, n_deletes)    "
   ]
  },
  {
   "cell_type": "markdown",
   "metadata": {},
   "source": [
    "посмотрим, откуда можно взять значение country_code и location"
   ]
  },
  {
   "cell_type": "code",
   "execution_count": 11,
   "metadata": {},
   "outputs": [
    {
     "name": "stdout",
     "output_type": "stream",
     "text": [
      "{'coordinates': [-33.025606, -71.546977], 'type': 'Point'}\n",
      "{'attributes': {},\n",
      " 'bounding_box': {'coordinates': [[[-71.5898331, -33.1045519],\n",
      "                                   [-71.5898331, -32.9481633],\n",
      "                                   [-71.4414593, -32.9481633],\n",
      "                                   [-71.4414593, -33.1045519]]],\n",
      "                  'type': 'Polygon'},\n",
      " 'country': 'Chile',\n",
      " 'country_code': 'CL',\n",
      " 'full_name': 'Viña del Mar, Valparaíso',\n",
      " 'id': '008be613029d4ca5',\n",
      " 'name': 'Viña del Mar',\n",
      " 'place_type': 'city',\n",
      " 'url': 'https://api.twitter.com/1.1/geo/id/008be613029d4ca5.json'}\n"
     ]
    }
   ],
   "source": [
    "for tweet in tweets:\n",
    "    if \"geo\" in tweet and tweet[\"geo\"] is not None:\n",
    "        pprint(tweet[\"geo\"])\n",
    "        break\n",
    "        \n",
    "for tweet in tweets:\n",
    "    if \"place\" in tweet and tweet[\"place\"] is not None:\n",
    "        pprint(tweet[\"place\"])\n",
    "        break"
   ]
  },
  {
   "cell_type": "markdown",
   "metadata": {},
   "source": []
  }
 ],
 "metadata": {
  "kernelspec": {
   "display_name": "Python 3",
   "language": "python",
   "name": "python3"
  },
  "language_info": {
   "codemirror_mode": {
    "name": "ipython",
    "version": 3
   },
   "file_extension": ".py",
   "mimetype": "text/x-python",
   "name": "python",
   "nbconvert_exporter": "python",
   "pygments_lexer": "ipython3",
   "version": "3.7.4"
  }
 },
 "nbformat": 4,
 "nbformat_minor": 2
}
