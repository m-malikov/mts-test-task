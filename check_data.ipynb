{
 "cells": [
  {
   "cell_type": "code",
   "execution_count": 87,
   "metadata": {},
   "outputs": [],
   "source": [
    "import json\n",
    "\n",
    "with open(\"scripts/raw_data/three_minutes_tweets.json.txt\") as f:\n",
    "    tweets = [json.loads(line) for line in f]"
   ]
  },
  {
   "cell_type": "code",
   "execution_count": 3,
   "metadata": {},
   "outputs": [
    {
     "data": {
      "text/plain": [
       "8299"
      ]
     },
     "execution_count": 3,
     "metadata": {},
     "output_type": "execute_result"
    }
   ],
   "source": [
    "len(tweets)"
   ]
  },
  {
   "cell_type": "markdown",
   "metadata": {},
   "source": [
    "проверим что все строки -- создание или удаление твитов"
   ]
  },
  {
   "cell_type": "code",
   "execution_count": 6,
   "metadata": {},
   "outputs": [
    {
     "name": "stdout",
     "output_type": "stream",
     "text": [
      "7338 961\n"
     ]
    }
   ],
   "source": [
    "n_creates = 0\n",
    "n_deletes = 0\n",
    "for tweet in tweets:\n",
    "    if \"created_at\" in tweet:\n",
    "        n_creates += 1\n",
    "    elif \"delete\" in tweet:\n",
    "        n_deletes += 1\n",
    "    else:\n",
    "        print(\"unknown type\", tweet)\n",
    "\n",
    "print(n_creates, n_deletes)    "
   ]
  },
  {
   "cell_type": "markdown",
   "metadata": {},
   "source": [
    "посмотрим, откуда можно взять значение country_code и location"
   ]
  },
  {
   "cell_type": "code",
   "execution_count": 11,
   "metadata": {
    "scrolled": true
   },
   "outputs": [
    {
     "name": "stdout",
     "output_type": "stream",
     "text": [
      "{'coordinates': [-33.025606, -71.546977], 'type': 'Point'}\n",
      "{'attributes': {},\n",
      " 'bounding_box': {'coordinates': [[[-71.5898331, -33.1045519],\n",
      "                                   [-71.5898331, -32.9481633],\n",
      "                                   [-71.4414593, -32.9481633],\n",
      "                                   [-71.4414593, -33.1045519]]],\n",
      "                  'type': 'Polygon'},\n",
      " 'country': 'Chile',\n",
      " 'country_code': 'CL',\n",
      " 'full_name': 'Viña del Mar, Valparaíso',\n",
      " 'id': '008be613029d4ca5',\n",
      " 'name': 'Viña del Mar',\n",
      " 'place_type': 'city',\n",
      " 'url': 'https://api.twitter.com/1.1/geo/id/008be613029d4ca5.json'}\n"
     ]
    }
   ],
   "source": [
    "for tweet in tweets:\n",
    "    if \"geo\" in tweet and tweet[\"geo\"] is not None:\n",
    "        pprint(tweet[\"geo\"])\n",
    "        break\n",
    "        \n",
    "for tweet in tweets:\n",
    "    if \"place\" in tweet and tweet[\"place\"] is not None:\n",
    "        pprint(tweet[\"place\"])\n",
    "        break"
   ]
  },
  {
   "cell_type": "code",
   "execution_count": 11,
   "metadata": {},
   "outputs": [],
   "source": [
    "with open(\"scripts/raw_data/AFINN-111.txt\") as f:\n",
    "    word_ratings = [line.split('\\t') for line in f]\n",
    "    word_ratings = {word[0]: int(word[1]) for word in word_ratings} "
   ]
  },
  {
   "cell_type": "code",
   "execution_count": 84,
   "metadata": {},
   "outputs": [],
   "source": [
    "import re\n",
    "from collections import Counter\n",
    "\n",
    "def prepare_text(text):\n",
    "    return Counter(re.findall(r'\\w{3,}', text.lower()))\n",
    "\n",
    "def rate(words):\n",
    "    score = 0\n",
    "    for word, n_occurencies in words.items():\n",
    "        score += word_ratings.get(word, 0) * n_occurencies\n",
    "    return score"
   ]
  },
  {
   "cell_type": "code",
   "execution_count": 95,
   "metadata": {},
   "outputs": [],
   "source": [
    "texts = [tweet[\"text\"] for tweet in tweets if tweet.get(\"lang\") == \"en\"]\n",
    "rates = [rate(prepare_text(text)) for text in texts]"
   ]
  },
  {
   "cell_type": "code",
   "execution_count": 98,
   "metadata": {},
   "outputs": [
    {
     "data": {
      "text/plain": [
       "(array([1.900e+01, 6.300e+01, 3.310e+02, 1.536e+03, 6.810e+02, 2.180e+02,\n",
       "        4.600e+01, 1.500e+01, 5.000e+00, 1.000e+00]),\n",
       " array([-10. ,  -7.3,  -4.6,  -1.9,   0.8,   3.5,   6.2,   8.9,  11.6,\n",
       "         14.3,  17. ]),\n",
       " <a list of 10 Patch objects>)"
      ]
     },
     "execution_count": 98,
     "metadata": {},
     "output_type": "execute_result"
    },
    {
     "data": {
      "image/png": "[encoded data removed]",
      "text/plain": [
       "<Figure size 432x288 with 1 Axes>"
      ]
     },
     "metadata": {
      "needs_background": "light"
     },
     "output_type": "display_data"
    }
   ],
   "source": [
    "import matplotlib.pyplot as plt\n",
    "\n",
    "plt.hist(rates)"
   ]
  },
  {
   "cell_type": "code",
   "execution_count": 101,
   "metadata": {},
   "outputs": [
    {
     "name": "stdout",
     "output_type": "stream",
     "text": [
      "-9 A line? A motherfucking line!? Don't these people know who the fuck I am?… https://t.co/FlPD6nlLD0\n",
      "-9 Watch the full video: http://t.co/aKeaV066AA\n",
      "Cock hungry girlfriend gets fucked and creamed http://t.co/ZYhvrsaz4j\n",
      "-9 RT @travis_txst: Can't wait to hear all of these freshman bitch about their dorms/roommates... They ain't got shit on my stories 😂\n",
      "-10 RT @ItsSTIR: EXACTLY! Sad. Damned if we do, damned if we dont RT @supermanhotmale See how they operate? http://t.co/yjdlBi6DEu\n",
      "#TeenMentors…\n",
      "-9 @zenmachinegun oh is it. fuck buying that just now anyway, retarded pricing. was it really that bad?\n",
      "-9 Walk onto our side, especially as we are crying out for an actual centre half of his mould since losing Vidic. Madness! Daley Blind it is.\n",
      "-9 @vianeybobadilla stfu witcho bitch ass\n",
      "-9 @NASCAR THIS PACKAGE SUCKS THIS PACKAGE SUCKS THIS PACKAGE SUCKS #NASCAR #PureMichigan400\n",
      "-9 I'm crying😭\n",
      "\n",
      "DO NOT FUCKING LITTER\n",
      "\n",
      "IT IS SO EASY TO THROW SHIT AWAY WHERE IT BELONGS https://t.co/zxKskptaf7\n",
      "-10 RT @Kikiara_: fuck with me thats one thing.. fuck with my BROTHER thats a whole other story and i willl hurt you.\n",
      "-9 Niggas talk on twitter but in life they don't say shit.\n"
     ]
    }
   ],
   "source": [
    "for i in range(len(texts)):\n",
    "    if rates[i] < -8:\n",
    "        print(rates[i], texts[i])"
   ]
  },
  {
   "cell_type": "code",
   "execution_count": 103,
   "metadata": {},
   "outputs": [
    {
     "name": "stdout",
     "output_type": "stream",
     "text": [
      "17 dear @Harry_Styles you're so amazing, so kind, so beautiful, I’m so lucky to have you in my life.\n",
      "Mind following me?⋆*\n",
      "All the love x\n",
      "30,052\n",
      "11 @HunterHaleyKing I am so glad we finally got to meet! I have been a fan for a long time! Stay sweet &amp; beautiful! 😉 http://t.co/zjcJQAy5lE\n",
      "12 RT @MorganSmith15: Barkley had a really good day.. Nelson rookie from USC was outstanding. All in one preseason game. It was a fun one even…\n",
      "14 RT @BeaMiller: WAIT I WON A TEEN CHOICE AWARD THATS AWESOME YOU GUYS ARE THE BEST ps where am i going to fit a large surfboard in my home I…\n",
      "11 @zaynmalik \n",
      "Hey baby how are u ?😘\n",
      "Hope you're well 😄♥\n",
      "I love u so so much ❤\n",
      "Can u follow me please ? 😣\n",
      "I always love &amp; support u 😍😍😍😍 ♥\n",
      "x442\n",
      "12 RT @kushlovatos: Ariana: Great vocals \n",
      "Demi: Power vocals\n",
      "Miley: Great music videos\n",
      "Taylor: Good sales\n",
      "Selena: Good night ya'll\n",
      "11 hii @Harry_Styles, thank you for making this world such a lovely place, you deserve everything great! Mind following me? Love you ♡ x126,443\n",
      "13 RT @baylee_beulke: The 5 best compliments\n",
      "-you're easy to talk to\n",
      "-but you're different\n",
      "-you smell good\n",
      "-you have nice eyebrows \n",
      "-I love yo…\n",
      "13 You're perfect to me.Sincerely.🌸\n",
      "You're responsible for my happiness. Love you so much my sunshines💘💕\n",
      "@Louis_Tomlinson @NiallOfficial\n",
      "17,737\n"
     ]
    }
   ],
   "source": [
    "for i in range(len(texts)):\n",
    "    if rates[i] > 10:\n",
    "        print(rates[i], texts[i])"
   ]
  },
  {
   "cell_type": "code",
   "execution_count": null,
   "metadata": {},
   "outputs": [],
   "source": []
  }
 ],
 "metadata": {
  "kernelspec": {
   "display_name": "Python 3",
   "language": "python",
   "name": "python3"
  },
  "language_info": {
   "codemirror_mode": {
    "name": "ipython",
    "version": 3
   },
   "file_extension": ".py",
   "mimetype": "text/x-python",
   "name": "python",
   "nbconvert_exporter": "python",
   "pygments_lexer": "ipython3",
   "version": "3.7.4"
  }
 },
 "nbformat": 4,
 "nbformat_minor": 2
}
